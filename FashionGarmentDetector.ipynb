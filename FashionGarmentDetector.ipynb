{
  "nbformat": 4,
  "nbformat_minor": 0,
  "metadata": {
    "colab": {
      "name": "FashionGarmentDetector.ipynb",
      "provenance": [],
      "authorship_tag": "ABX9TyPTpiHqKkazAMvdVBqiWABh",
      "include_colab_link": true
    },
    "kernelspec": {
      "name": "python3",
      "display_name": "Python 3"
    },
    "accelerator": "GPU"
  },
  "cells": [
    {
      "cell_type": "markdown",
      "metadata": {
        "id": "view-in-github",
        "colab_type": "text"
      },
      "source": [
        "<a href=\"https://colab.research.google.com/github/Sagar-Kamat/fashion-garment-recogniser/blob/main/FashionGarmentDetector.ipynb\" target=\"_parent\"><img src=\"https://colab.research.google.com/assets/colab-badge.svg\" alt=\"Open In Colab\"/></a>"
      ]
    },
    {
      "cell_type": "markdown",
      "metadata": {
        "id": "hT8rvMOZDQIb"
      },
      "source": [
        "### Mounting Google Drive"
      ]
    },
    {
      "cell_type": "code",
      "metadata": {
        "id": "nlgv5jkGW5pc",
        "colab": {
          "base_uri": "https://localhost:8080/"
        },
        "outputId": "a3a3c4bb-f601-4334-d341-1f0f5fbfdff7"
      },
      "source": [
        "from google.colab import drive\r\n",
        "drive.mount('/content/drive')"
      ],
      "execution_count": null,
      "outputs": [
        {
          "output_type": "stream",
          "text": [
            "Mounted at /content/drive\n"
          ],
          "name": "stdout"
        }
      ]
    },
    {
      "cell_type": "code",
      "metadata": {
        "id": "vJ3z6z8ZXKe-"
      },
      "source": [
        "import os\r\n",
        "os.chdir(\"drive/MyDrive/Fashion_MNIST\")"
      ],
      "execution_count": null,
      "outputs": []
    },
    {
      "cell_type": "markdown",
      "metadata": {
        "id": "dHgPwOVpDW6g"
      },
      "source": [
        "### Importing libraries, dataset and preprocessing data"
      ]
    },
    {
      "cell_type": "code",
      "metadata": {
        "id": "IGfWXi0eOux4"
      },
      "source": [
        "# importing all libraries\r\n",
        "import numpy as np\r\n",
        "import pandas as pd\r\n",
        "from keras.utils import to_categorical\r\n",
        "from sklearn.model_selection import train_test_split\r\n",
        "import keras\r\n",
        "from keras.models import Sequential\r\n",
        "from keras.layers import Dense, Dropout, Flatten\r\n",
        "from keras.layers import Conv2D, MaxPooling2D, BatchNormalization"
      ],
      "execution_count": null,
      "outputs": []
    },
    {
      "cell_type": "code",
      "metadata": {
        "id": "rv8jWnigO4Y9"
      },
      "source": [
        "# Load training and test data into dataframes\r\n",
        "data_train = pd.read_csv('fashion-mnist_train.csv')\r\n",
        "data_test = pd.read_csv('fashion-mnist_test.csv')"
      ],
      "execution_count": null,
      "outputs": []
    },
    {
      "cell_type": "code",
      "metadata": {
        "id": "z6J_itEhO-0m"
      },
      "source": [
        "# X forms the training images, and y forms the training labels\r\n",
        "X = np.array(data_train.iloc[:, 1:])\r\n",
        "y = to_categorical(np.array(data_train.iloc[:, 0]))"
      ],
      "execution_count": null,
      "outputs": []
    },
    {
      "cell_type": "code",
      "metadata": {
        "id": "H2w3Xw9tO-wv"
      },
      "source": [
        "# Here I split original training data to sub-training (80%) and validation data (20%)\r\n",
        "X_train, X_val, y_train, y_val = train_test_split(X, y, test_size=0.2, random_state=13)"
      ],
      "execution_count": null,
      "outputs": []
    },
    {
      "cell_type": "code",
      "metadata": {
        "id": "FAdscTYEO-vB"
      },
      "source": [
        "# X_test forms the test images, and y_test forms the test labels\r\n",
        "X_test = np.array(data_test.iloc[:, 1:])\r\n",
        "y_test = to_categorical(np.array(data_test.iloc[:, 0]))"
      ],
      "execution_count": null,
      "outputs": []
    },
    {
      "cell_type": "code",
      "metadata": {
        "id": "Xe9T-luNO-rE"
      },
      "source": [
        "# Each image's dimension is 28 x 28\r\n",
        "img_rows, img_cols = 28, 28\r\n",
        "input_shape = (img_rows, img_cols, 1)"
      ],
      "execution_count": null,
      "outputs": []
    },
    {
      "cell_type": "code",
      "metadata": {
        "id": "IkEylJiFO-pb"
      },
      "source": [
        "# Prepare the training images\r\n",
        "X_train = X_train.reshape(X_train.shape[0], img_rows, img_cols, 1)\r\n",
        "X_train = X_train.astype('float32')\r\n",
        "X_train /= 255"
      ],
      "execution_count": null,
      "outputs": []
    },
    {
      "cell_type": "code",
      "metadata": {
        "id": "wHB9amuZO-lR"
      },
      "source": [
        "# Prepare the test images\r\n",
        "X_test = X_test.reshape(X_test.shape[0], img_rows, img_cols, 1)\r\n",
        "X_test = X_test.astype('float32')\r\n",
        "X_test /= 255"
      ],
      "execution_count": null,
      "outputs": []
    },
    {
      "cell_type": "code",
      "metadata": {
        "id": "dZgGVQGcO-jc"
      },
      "source": [
        "# Prepare the validation images\r\n",
        "X_val = X_val.reshape(X_val.shape[0], img_rows, img_cols, 1)\r\n",
        "X_val = X_val.astype('float32')\r\n",
        "X_val /= 255"
      ],
      "execution_count": null,
      "outputs": []
    },
    {
      "cell_type": "markdown",
      "metadata": {
        "id": "0HgGmh1PDr6P"
      },
      "source": [
        "### CNN model"
      ]
    },
    {
      "cell_type": "code",
      "metadata": {
        "id": "xC62t0_HO-fh"
      },
      "source": [
        "# Creating the CNN with 4 layers\r\n",
        "cnn4 = Sequential()\r\n",
        "cnn4.add(Conv2D(32, kernel_size=(3, 3), activation='relu', input_shape=input_shape))\r\n",
        "cnn4.add(BatchNormalization())\r\n",
        "\r\n",
        "cnn4.add(Conv2D(32, kernel_size=(3, 3), activation='relu'))\r\n",
        "cnn4.add(BatchNormalization())\r\n",
        "cnn4.add(MaxPooling2D(pool_size=(2, 2)))\r\n",
        "cnn4.add(Dropout(0.25))\r\n",
        "\r\n",
        "cnn4.add(Conv2D(64, kernel_size=(3, 3), activation='relu'))\r\n",
        "cnn4.add(BatchNormalization())\r\n",
        "cnn4.add(Dropout(0.25))\r\n",
        "\r\n",
        "cnn4.add(Conv2D(128, kernel_size=(3, 3), activation='relu'))\r\n",
        "cnn4.add(BatchNormalization())\r\n",
        "cnn4.add(MaxPooling2D(pool_size=(2, 2)))\r\n",
        "cnn4.add(Dropout(0.25))\r\n",
        "\r\n",
        "cnn4.add(Flatten())\r\n",
        "\r\n",
        "cnn4.add(Dense(512, activation='relu'))\r\n",
        "cnn4.add(BatchNormalization())\r\n",
        "cnn4.add(Dropout(0.5))\r\n",
        "\r\n",
        "cnn4.add(Dense(128, activation='relu'))\r\n",
        "cnn4.add(BatchNormalization())\r\n",
        "cnn4.add(Dropout(0.5))\r\n",
        "\r\n",
        "cnn4.add(Dense(10, activation='softmax'))"
      ],
      "execution_count": null,
      "outputs": []
    },
    {
      "cell_type": "code",
      "metadata": {
        "id": "aAtt_A3eO-dh"
      },
      "source": [
        "# compile the model\r\n",
        "cnn4.compile(loss=keras.losses.categorical_crossentropy,\r\n",
        "              optimizer=keras.optimizers.Adam(),\r\n",
        "              metrics=['accuracy'])"
      ],
      "execution_count": null,
      "outputs": []
    },
    {
      "cell_type": "code",
      "metadata": {
        "id": "Yup4M3sbO-Zc",
        "colab": {
          "base_uri": "https://localhost:8080/"
        },
        "outputId": "5891612e-22e5-4bc8-8280-8cbab5babaf8"
      },
      "source": [
        "cnn4.summary()"
      ],
      "execution_count": null,
      "outputs": [
        {
          "output_type": "stream",
          "text": [
            "Model: \"sequential\"\n",
            "_________________________________________________________________\n",
            "Layer (type)                 Output Shape              Param #   \n",
            "=================================================================\n",
            "conv2d (Conv2D)              (None, 26, 26, 32)        320       \n",
            "_________________________________________________________________\n",
            "batch_normalization (BatchNo (None, 26, 26, 32)        128       \n",
            "_________________________________________________________________\n",
            "conv2d_1 (Conv2D)            (None, 24, 24, 32)        9248      \n",
            "_________________________________________________________________\n",
            "batch_normalization_1 (Batch (None, 24, 24, 32)        128       \n",
            "_________________________________________________________________\n",
            "max_pooling2d (MaxPooling2D) (None, 12, 12, 32)        0         \n",
            "_________________________________________________________________\n",
            "dropout (Dropout)            (None, 12, 12, 32)        0         \n",
            "_________________________________________________________________\n",
            "conv2d_2 (Conv2D)            (None, 10, 10, 64)        18496     \n",
            "_________________________________________________________________\n",
            "batch_normalization_2 (Batch (None, 10, 10, 64)        256       \n",
            "_________________________________________________________________\n",
            "dropout_1 (Dropout)          (None, 10, 10, 64)        0         \n",
            "_________________________________________________________________\n",
            "conv2d_3 (Conv2D)            (None, 8, 8, 128)         73856     \n",
            "_________________________________________________________________\n",
            "batch_normalization_3 (Batch (None, 8, 8, 128)         512       \n",
            "_________________________________________________________________\n",
            "max_pooling2d_1 (MaxPooling2 (None, 4, 4, 128)         0         \n",
            "_________________________________________________________________\n",
            "dropout_2 (Dropout)          (None, 4, 4, 128)         0         \n",
            "_________________________________________________________________\n",
            "flatten (Flatten)            (None, 2048)              0         \n",
            "_________________________________________________________________\n",
            "dense (Dense)                (None, 512)               1049088   \n",
            "_________________________________________________________________\n",
            "batch_normalization_4 (Batch (None, 512)               2048      \n",
            "_________________________________________________________________\n",
            "dropout_3 (Dropout)          (None, 512)               0         \n",
            "_________________________________________________________________\n",
            "dense_1 (Dense)              (None, 128)               65664     \n",
            "_________________________________________________________________\n",
            "batch_normalization_5 (Batch (None, 128)               512       \n",
            "_________________________________________________________________\n",
            "dropout_4 (Dropout)          (None, 128)               0         \n",
            "_________________________________________________________________\n",
            "dense_2 (Dense)              (None, 10)                1290      \n",
            "=================================================================\n",
            "Total params: 1,221,546\n",
            "Trainable params: 1,219,754\n",
            "Non-trainable params: 1,792\n",
            "_________________________________________________________________\n"
          ],
          "name": "stdout"
        }
      ]
    },
    {
      "cell_type": "code",
      "metadata": {
        "id": "GZH8DbBgO-Xn",
        "colab": {
          "base_uri": "https://localhost:8080/"
        },
        "outputId": "7f10543c-db4e-4e06-8789-321e3c9ad031"
      },
      "source": [
        "# training the model\r\n",
        "history4 = cnn4.fit(X_train, y_train,\r\n",
        "          batch_size=256,\r\n",
        "          epochs=10,\r\n",
        "          verbose=1,\r\n",
        "          validation_data=(X_val, y_val))"
      ],
      "execution_count": null,
      "outputs": [
        {
          "output_type": "stream",
          "text": [
            "Epoch 1/10\n",
            "188/188 [==============================] - 4s 19ms/step - loss: 0.7511 - accuracy: 0.7385 - val_loss: 2.8266 - val_accuracy: 0.1918\n",
            "Epoch 2/10\n",
            "188/188 [==============================] - 3s 18ms/step - loss: 0.4437 - accuracy: 0.8390 - val_loss: 1.9061 - val_accuracy: 0.5042\n",
            "Epoch 3/10\n",
            "188/188 [==============================] - 3s 17ms/step - loss: 0.3709 - accuracy: 0.8685 - val_loss: 0.3891 - val_accuracy: 0.8640\n",
            "Epoch 4/10\n",
            "188/188 [==============================] - 3s 17ms/step - loss: 0.3302 - accuracy: 0.8830 - val_loss: 0.2983 - val_accuracy: 0.8924\n",
            "Epoch 5/10\n",
            "188/188 [==============================] - 3s 17ms/step - loss: 0.3018 - accuracy: 0.8932 - val_loss: 0.2588 - val_accuracy: 0.9059\n",
            "Epoch 6/10\n",
            "188/188 [==============================] - 3s 17ms/step - loss: 0.2808 - accuracy: 0.9013 - val_loss: 0.2483 - val_accuracy: 0.9121\n",
            "Epoch 7/10\n",
            "188/188 [==============================] - 3s 17ms/step - loss: 0.2682 - accuracy: 0.9056 - val_loss: 0.2543 - val_accuracy: 0.9084\n",
            "Epoch 8/10\n",
            "188/188 [==============================] - 3s 17ms/step - loss: 0.2564 - accuracy: 0.9088 - val_loss: 0.2494 - val_accuracy: 0.9067\n",
            "Epoch 9/10\n",
            "188/188 [==============================] - 3s 17ms/step - loss: 0.2464 - accuracy: 0.9122 - val_loss: 0.2717 - val_accuracy: 0.8978\n",
            "Epoch 10/10\n",
            "188/188 [==============================] - 3s 17ms/step - loss: 0.2352 - accuracy: 0.9160 - val_loss: 0.2497 - val_accuracy: 0.9121\n"
          ],
          "name": "stdout"
        }
      ]
    },
    {
      "cell_type": "code",
      "metadata": {
        "id": "vXl-Vi1IO-T5",
        "colab": {
          "base_uri": "https://localhost:8080/"
        },
        "outputId": "e0805bb2-9cba-45fd-99a3-fe2d67c1b49b"
      },
      "source": [
        "# calculating test loss and test accuracy\r\n",
        "score4 = cnn4.evaluate(X_test, y_test, verbose=0)\r\n",
        "print('Test loss:', score4[0])\r\n",
        "print('Test accuracy:', score4[1])"
      ],
      "execution_count": null,
      "outputs": [
        {
          "output_type": "stream",
          "text": [
            "Test loss: 0.24598293006420135\n",
            "Test accuracy: 0.9117000102996826\n"
          ],
          "name": "stdout"
        }
      ]
    },
    {
      "cell_type": "markdown",
      "metadata": {
        "id": "BabaPm27D49G"
      },
      "source": [
        "### Augmenting data for better results"
      ]
    },
    {
      "cell_type": "code",
      "metadata": {
        "id": "MaR5o2ixO-SE"
      },
      "source": [
        "# data augmentation\r\n",
        "from keras.preprocessing.image import ImageDataGenerator\r\n",
        "gen = ImageDataGenerator(rotation_range=8, width_shift_range=0.08, shear_range=0.3,\r\n",
        "                               height_shift_range=0.08, zoom_range=0.08)\r\n",
        "batches = gen.flow(X_train, y_train, batch_size=256)\r\n",
        "val_batches = gen.flow(X_val, y_val, batch_size=256)"
      ],
      "execution_count": null,
      "outputs": []
    },
    {
      "cell_type": "code",
      "metadata": {
        "id": "eLwNPcgtPrGV",
        "colab": {
          "base_uri": "https://localhost:8080/"
        },
        "outputId": "30f4b876-09a0-4ac8-e0f7-912681d3a2cb"
      },
      "source": [
        "# training the augmented data\r\n",
        "history4 = cnn4.fit(batches, steps_per_epoch=48000//256, epochs=50,\r\n",
        "                    validation_data=val_batches, validation_steps=12000//256)"
      ],
      "execution_count": null,
      "outputs": [
        {
          "output_type": "stream",
          "text": [
            "Epoch 1/50\n",
            "187/187 [==============================] - 16s 84ms/step - loss: 0.4076 - accuracy: 0.8535 - val_loss: 0.4141 - val_accuracy: 0.8526\n",
            "Epoch 2/50\n",
            "187/187 [==============================] - 15s 82ms/step - loss: 0.3637 - accuracy: 0.8691 - val_loss: 0.3300 - val_accuracy: 0.8809\n",
            "Epoch 3/50\n",
            "187/187 [==============================] - 16s 83ms/step - loss: 0.3424 - accuracy: 0.8762 - val_loss: 0.2984 - val_accuracy: 0.8882\n",
            "Epoch 4/50\n",
            "187/187 [==============================] - 15s 81ms/step - loss: 0.3310 - accuracy: 0.8785 - val_loss: 0.3099 - val_accuracy: 0.8853\n",
            "Epoch 5/50\n",
            "187/187 [==============================] - 15s 80ms/step - loss: 0.3217 - accuracy: 0.8835 - val_loss: 0.2941 - val_accuracy: 0.8893\n",
            "Epoch 6/50\n",
            "187/187 [==============================] - 15s 80ms/step - loss: 0.3165 - accuracy: 0.8848 - val_loss: 0.2700 - val_accuracy: 0.8988\n",
            "Epoch 7/50\n",
            "187/187 [==============================] - 15s 80ms/step - loss: 0.3073 - accuracy: 0.8882 - val_loss: 0.2750 - val_accuracy: 0.8959\n",
            "Epoch 8/50\n",
            "187/187 [==============================] - 15s 78ms/step - loss: 0.3040 - accuracy: 0.8905 - val_loss: 0.2667 - val_accuracy: 0.9030\n",
            "Epoch 9/50\n",
            "187/187 [==============================] - 14s 77ms/step - loss: 0.2988 - accuracy: 0.8939 - val_loss: 0.2962 - val_accuracy: 0.8918\n",
            "Epoch 10/50\n",
            "187/187 [==============================] - 14s 76ms/step - loss: 0.2941 - accuracy: 0.8933 - val_loss: 0.2933 - val_accuracy: 0.8930\n",
            "Epoch 11/50\n",
            "187/187 [==============================] - 14s 77ms/step - loss: 0.2914 - accuracy: 0.8947 - val_loss: 0.2583 - val_accuracy: 0.9031\n",
            "Epoch 12/50\n",
            "187/187 [==============================] - 14s 77ms/step - loss: 0.2875 - accuracy: 0.8948 - val_loss: 0.2705 - val_accuracy: 0.8992\n",
            "Epoch 13/50\n",
            "187/187 [==============================] - 14s 77ms/step - loss: 0.2797 - accuracy: 0.8989 - val_loss: 0.2588 - val_accuracy: 0.9054\n",
            "Epoch 14/50\n",
            "187/187 [==============================] - 14s 76ms/step - loss: 0.2748 - accuracy: 0.9019 - val_loss: 0.2443 - val_accuracy: 0.9112\n",
            "Epoch 15/50\n",
            "187/187 [==============================] - 14s 76ms/step - loss: 0.2776 - accuracy: 0.9011 - val_loss: 0.2541 - val_accuracy: 0.9055\n",
            "Epoch 16/50\n",
            "187/187 [==============================] - 14s 75ms/step - loss: 0.2732 - accuracy: 0.9019 - val_loss: 0.2678 - val_accuracy: 0.8986\n",
            "Epoch 17/50\n",
            "187/187 [==============================] - 14s 76ms/step - loss: 0.2722 - accuracy: 0.9018 - val_loss: 0.2609 - val_accuracy: 0.9019\n",
            "Epoch 18/50\n",
            "187/187 [==============================] - 14s 76ms/step - loss: 0.2650 - accuracy: 0.9040 - val_loss: 0.2516 - val_accuracy: 0.9079\n",
            "Epoch 19/50\n",
            "187/187 [==============================] - 14s 77ms/step - loss: 0.2683 - accuracy: 0.9028 - val_loss: 0.2444 - val_accuracy: 0.9128\n",
            "Epoch 20/50\n",
            "187/187 [==============================] - 14s 75ms/step - loss: 0.2591 - accuracy: 0.9071 - val_loss: 0.2377 - val_accuracy: 0.9131\n",
            "Epoch 21/50\n",
            "187/187 [==============================] - 14s 75ms/step - loss: 0.2621 - accuracy: 0.9038 - val_loss: 0.2352 - val_accuracy: 0.9140\n",
            "Epoch 22/50\n",
            "187/187 [==============================] - 14s 75ms/step - loss: 0.2556 - accuracy: 0.9080 - val_loss: 0.2257 - val_accuracy: 0.9164\n",
            "Epoch 23/50\n",
            "187/187 [==============================] - 14s 76ms/step - loss: 0.2572 - accuracy: 0.9073 - val_loss: 0.2391 - val_accuracy: 0.9108\n",
            "Epoch 24/50\n",
            "187/187 [==============================] - 14s 77ms/step - loss: 0.2499 - accuracy: 0.9097 - val_loss: 0.2384 - val_accuracy: 0.9133\n",
            "Epoch 25/50\n",
            "187/187 [==============================] - 14s 77ms/step - loss: 0.2458 - accuracy: 0.9100 - val_loss: 0.2250 - val_accuracy: 0.9180\n",
            "Epoch 26/50\n",
            "187/187 [==============================] - 14s 76ms/step - loss: 0.2471 - accuracy: 0.9124 - val_loss: 0.2330 - val_accuracy: 0.9136\n",
            "Epoch 27/50\n",
            "187/187 [==============================] - 14s 75ms/step - loss: 0.2459 - accuracy: 0.9113 - val_loss: 0.2533 - val_accuracy: 0.9051\n",
            "Epoch 28/50\n",
            "187/187 [==============================] - 14s 75ms/step - loss: 0.2471 - accuracy: 0.9103 - val_loss: 0.2300 - val_accuracy: 0.9156\n",
            "Epoch 29/50\n",
            "187/187 [==============================] - 14s 75ms/step - loss: 0.2447 - accuracy: 0.9133 - val_loss: 0.2193 - val_accuracy: 0.9198\n",
            "Epoch 30/50\n",
            "187/187 [==============================] - 14s 75ms/step - loss: 0.2377 - accuracy: 0.9148 - val_loss: 0.2321 - val_accuracy: 0.9161\n",
            "Epoch 31/50\n",
            "187/187 [==============================] - 14s 75ms/step - loss: 0.2392 - accuracy: 0.9136 - val_loss: 0.2208 - val_accuracy: 0.9187\n",
            "Epoch 32/50\n",
            "187/187 [==============================] - 14s 75ms/step - loss: 0.2400 - accuracy: 0.9141 - val_loss: 0.2272 - val_accuracy: 0.9164\n",
            "Epoch 33/50\n",
            "187/187 [==============================] - 14s 75ms/step - loss: 0.2375 - accuracy: 0.9127 - val_loss: 0.2238 - val_accuracy: 0.9203\n",
            "Epoch 34/50\n",
            "187/187 [==============================] - 14s 74ms/step - loss: 0.2326 - accuracy: 0.9160 - val_loss: 0.2386 - val_accuracy: 0.9102\n",
            "Epoch 35/50\n",
            "187/187 [==============================] - 14s 75ms/step - loss: 0.2288 - accuracy: 0.9169 - val_loss: 0.2189 - val_accuracy: 0.9208\n",
            "Epoch 36/50\n",
            "187/187 [==============================] - 14s 74ms/step - loss: 0.2314 - accuracy: 0.9150 - val_loss: 0.2168 - val_accuracy: 0.9220\n",
            "Epoch 37/50\n",
            "187/187 [==============================] - 14s 75ms/step - loss: 0.2296 - accuracy: 0.9165 - val_loss: 0.2244 - val_accuracy: 0.9210\n",
            "Epoch 38/50\n",
            "187/187 [==============================] - 14s 75ms/step - loss: 0.2298 - accuracy: 0.9168 - val_loss: 0.2258 - val_accuracy: 0.9190\n",
            "Epoch 39/50\n",
            "187/187 [==============================] - 14s 75ms/step - loss: 0.2305 - accuracy: 0.9163 - val_loss: 0.2150 - val_accuracy: 0.9219\n",
            "Epoch 40/50\n",
            "187/187 [==============================] - 14s 76ms/step - loss: 0.2300 - accuracy: 0.9178 - val_loss: 0.2094 - val_accuracy: 0.9231\n",
            "Epoch 41/50\n",
            "187/187 [==============================] - 14s 76ms/step - loss: 0.2248 - accuracy: 0.9188 - val_loss: 0.2190 - val_accuracy: 0.9187\n",
            "Epoch 42/50\n",
            "187/187 [==============================] - 14s 75ms/step - loss: 0.2226 - accuracy: 0.9208 - val_loss: 0.2209 - val_accuracy: 0.9189\n",
            "Epoch 43/50\n",
            "187/187 [==============================] - 14s 75ms/step - loss: 0.2218 - accuracy: 0.9194 - val_loss: 0.2245 - val_accuracy: 0.9208\n",
            "Epoch 44/50\n",
            "187/187 [==============================] - 14s 75ms/step - loss: 0.2258 - accuracy: 0.9170 - val_loss: 0.2153 - val_accuracy: 0.9243\n",
            "Epoch 45/50\n",
            "187/187 [==============================] - 14s 75ms/step - loss: 0.2192 - accuracy: 0.9217 - val_loss: 0.2049 - val_accuracy: 0.9229\n",
            "Epoch 46/50\n",
            "187/187 [==============================] - 14s 77ms/step - loss: 0.2208 - accuracy: 0.9206 - val_loss: 0.2113 - val_accuracy: 0.9255\n",
            "Epoch 47/50\n",
            "187/187 [==============================] - 14s 77ms/step - loss: 0.2173 - accuracy: 0.9222 - val_loss: 0.2018 - val_accuracy: 0.9257\n",
            "Epoch 48/50\n",
            "187/187 [==============================] - 14s 76ms/step - loss: 0.2168 - accuracy: 0.9215 - val_loss: 0.2045 - val_accuracy: 0.9276\n",
            "Epoch 49/50\n",
            "187/187 [==============================] - 14s 76ms/step - loss: 0.2160 - accuracy: 0.9220 - val_loss: 0.2147 - val_accuracy: 0.9217\n",
            "Epoch 50/50\n",
            "187/187 [==============================] - 14s 75ms/step - loss: 0.2136 - accuracy: 0.9224 - val_loss: 0.2073 - val_accuracy: 0.9239\n"
          ],
          "name": "stdout"
        }
      ]
    },
    {
      "cell_type": "code",
      "metadata": {
        "id": "txyjhOzZPrCp",
        "colab": {
          "base_uri": "https://localhost:8080/"
        },
        "outputId": "2496900c-210b-44b7-bb46-3cdd7ce16285"
      },
      "source": [
        "# calculating test loss and test accuracy on augmented data\r\n",
        "score4 = cnn4.evaluate(X_test, y_test, verbose=0)\r\n",
        "print('Test loss:', score4[0])\r\n",
        "print('Test accuracy:', score4[1])"
      ],
      "execution_count": null,
      "outputs": [
        {
          "output_type": "stream",
          "text": [
            "Test loss: 0.1735728532075882\n",
            "Test accuracy: 0.9387000203132629\n"
          ],
          "name": "stdout"
        }
      ]
    },
    {
      "cell_type": "markdown",
      "metadata": {
        "id": "yFKZB2aqUswI"
      },
      "source": [
        "### Visualisation\r\n"
      ]
    },
    {
      "cell_type": "code",
      "metadata": {
        "id": "usv2A3P_PrAo",
        "colab": {
          "base_uri": "https://localhost:8080/",
          "height": 545
        },
        "outputId": "3afbb29e-a966-43f2-e094-e5e7ac541ebf"
      },
      "source": [
        "# plot training and validation accuracy as well as training and validation loss.\r\n",
        "import matplotlib.pyplot as plt\r\n",
        "%matplotlib inline\r\n",
        "\r\n",
        "accuracy = history4.history['accuracy']\r\n",
        "val_accuracy = history4.history['val_accuracy']\r\n",
        "loss = history4.history['loss']\r\n",
        "val_loss = history4.history['val_loss']\r\n",
        "epochs = range(len(accuracy))\r\n",
        "\r\n",
        "plt.plot(epochs, accuracy, 'bo', label='Training accuracy')\r\n",
        "plt.plot(epochs, val_accuracy, 'b', label='Validation accuracy')\r\n",
        "plt.title('Training and validation accuracy')\r\n",
        "plt.legend()\r\n",
        "plt.figure()\r\n",
        "\r\n",
        "plt.plot(epochs, loss, 'bo', label='Training loss')\r\n",
        "plt.plot(epochs, val_loss, 'b', label='Validation loss')\r\n",
        "plt.title('Training and validation loss')\r\n",
        "plt.legend()\r\n",
        "plt.show()"
      ],
      "execution_count": null,
      "outputs": [
        {
          "output_type": "display_data",
          "data": {
            "image/png": "[encoded data removed]",
            "text/plain": [
              "<Figure size 432x288 with 1 Axes>"
            ]
          },
          "metadata": {
            "tags": [],
            "needs_background": "light"
          }
        },
        {
          "output_type": "display_data",
          "data": {
            "image/png": "[encoded data removed]",
            "text/plain": [
              "<Figure size 432x288 with 1 Axes>"
            ]
          },
          "metadata": {
            "tags": [],
            "needs_background": "light"
          }
        }
      ]
    },
    {
      "cell_type": "code",
      "metadata": {
        "id": "V-oNzHjUO95K"
      },
      "source": [
        ""
      ],
      "execution_count": null,
      "outputs": []
    }
  ]
}